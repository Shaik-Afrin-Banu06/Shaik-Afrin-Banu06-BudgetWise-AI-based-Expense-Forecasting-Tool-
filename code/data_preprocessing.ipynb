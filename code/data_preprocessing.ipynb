# --------------------------------------------------------
# DATA PREPROCESSING NOTEBOOK
# --------------------------------------------------------
import pandas as pd

# 📥 Step 1: Load your Excel file
file_path = r"C:\Users\SHAIK AFRIN BANU\Downloads\Monthly_Summary_2023_2026 (1).xlsx"
df = pd.read_excel(file_path)

# 🧭 Step 2: Display first few rows
print("✅ Data Loaded Successfully!")
df.head()

# 🧾 Step 3: Clean column names
df.columns = ['year_month', 'total_income', 'total_expenses', 'net_savings', 'year', 'month']

# 🕒 Step 4: Convert 'year_month' to datetime
df['year_month'] = pd.to_datetime(df['year_month'], format='%Y-%m')

# 🧮 Step 5: Sort and check
df = df.sort_values('year_month')

# 💾 Step 6: Save cleaned data
df.to_csv("../data/processed_monthly_data.csv", index=False)
print("✅ Data cleaned and saved successfully to 'data/processed_monthly_data.csv'!")

# ✅ Step 7: Display final DataFrame
df.head()
