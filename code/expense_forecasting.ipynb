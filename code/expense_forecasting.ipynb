# --------------------------------------------------------
# EXPENSE FORECASTING NOTEBOOK
# --------------------------------------------------------
import pandas as pd
import numpy as np
from sklearn.linear_model import LinearRegression
import matplotlib.pyplot as plt

# 📥 Load preprocessed data
df = pd.read_csv("../data/processed_monthly_data.csv")

# 🧭 Step 1: Sort by date
df['year_month'] = pd.to_datetime(df['year_month'])
df = df.sort_values('year_month')

# 🧮 Step 2: Prepare model data
X = np.arange(len(df)).reshape(-1, 1)
y = df['total_expenses'].values

# 📈 Step 3: Train model
model = LinearRegression()
model.fit(X, y)

# 🔮 Step 4: Predict next 6 months
future_steps = 6
X_future = np.arange(len(df), len(df) + future_steps).reshape(-1, 1)
future_preds = model.predict(X_future)

# 🕒 Step 5: Create future date range
last_date = df['year_month'].max()
future_dates = pd.date_range(start=last_date + pd.offsets.MonthBegin(1), periods=future_steps, freq='MS')

forecast_df = pd.DataFrame({
    'year_month': future_dates,
    'predicted_expenses': future_preds
})

# 💾 Step 6: Save results
forecast_df.to_csv("../data/forecast_next_6_months.csv", index=False)
print("✅ Forecast saved to 'data/forecast_next_6_months.csv'!")

# 📊 Step 7: Visualization
plt.figure(figsize=(10, 5))
plt.plot(df['year_month'], df['total_expenses'], label='Actual Expenses', marker='o')
plt.plot(forecast_df['year_month'], forecast_df['predicted_expenses'], label='Forecast', marker='x', linestyle='--')
plt.title("Expense Forecast for Next 6 Months")
plt.xlabel("Month")
plt.ylabel("Expenses (₹)")
plt.legend()
plt.grid()
plt.show()
